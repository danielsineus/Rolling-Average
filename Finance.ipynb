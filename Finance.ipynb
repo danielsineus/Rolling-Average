{
 "cells": [
  {
   "cell_type": "code",
   "execution_count": 18,
   "metadata": {},
   "outputs": [],
   "source": [
    "import pandas as pd\n",
    "import matplotlib.pyplot as plt"
   ]
  },
  {
   "cell_type": "code",
   "execution_count": 19,
   "metadata": {},
   "outputs": [
    {
     "data": {
      "text/html": [
       "<div>\n",
       "<style scoped>\n",
       "    .dataframe tbody tr th:only-of-type {\n",
       "        vertical-align: middle;\n",
       "    }\n",
       "\n",
       "    .dataframe tbody tr th {\n",
       "        vertical-align: top;\n",
       "    }\n",
       "\n",
       "    .dataframe thead th {\n",
       "        text-align: right;\n",
       "    }\n",
       "</style>\n",
       "<table border=\"1\" class=\"dataframe\">\n",
       "  <thead>\n",
       "    <tr style=\"text-align: right;\">\n",
       "      <th></th>\n",
       "      <th>Open</th>\n",
       "      <th>High</th>\n",
       "      <th>Low</th>\n",
       "      <th>Close</th>\n",
       "      <th>Volume</th>\n",
       "      <th>Dividends</th>\n",
       "      <th>Stock Splits</th>\n",
       "    </tr>\n",
       "    <tr>\n",
       "      <th>Date</th>\n",
       "      <th></th>\n",
       "      <th></th>\n",
       "      <th></th>\n",
       "      <th></th>\n",
       "      <th></th>\n",
       "      <th></th>\n",
       "      <th></th>\n",
       "    </tr>\n",
       "  </thead>\n",
       "  <tbody>\n",
       "    <tr>\n",
       "      <th>2010-01-04</th>\n",
       "      <td>23.97</td>\n",
       "      <td>24.34</td>\n",
       "      <td>23.95</td>\n",
       "      <td>24.23</td>\n",
       "      <td>38409100</td>\n",
       "      <td>0.0</td>\n",
       "      <td>0</td>\n",
       "    </tr>\n",
       "    <tr>\n",
       "      <th>2010-01-05</th>\n",
       "      <td>24.15</td>\n",
       "      <td>24.34</td>\n",
       "      <td>23.98</td>\n",
       "      <td>24.23</td>\n",
       "      <td>49749600</td>\n",
       "      <td>0.0</td>\n",
       "      <td>0</td>\n",
       "    </tr>\n",
       "    <tr>\n",
       "      <th>2010-01-06</th>\n",
       "      <td>24.17</td>\n",
       "      <td>24.33</td>\n",
       "      <td>23.89</td>\n",
       "      <td>24.09</td>\n",
       "      <td>58182400</td>\n",
       "      <td>0.0</td>\n",
       "      <td>0</td>\n",
       "    </tr>\n",
       "    <tr>\n",
       "      <th>2010-01-07</th>\n",
       "      <td>23.98</td>\n",
       "      <td>24.03</td>\n",
       "      <td>23.63</td>\n",
       "      <td>23.84</td>\n",
       "      <td>50559700</td>\n",
       "      <td>0.0</td>\n",
       "      <td>0</td>\n",
       "    </tr>\n",
       "    <tr>\n",
       "      <th>2010-01-08</th>\n",
       "      <td>23.70</td>\n",
       "      <td>24.17</td>\n",
       "      <td>23.67</td>\n",
       "      <td>24.00</td>\n",
       "      <td>51197400</td>\n",
       "      <td>0.0</td>\n",
       "      <td>0</td>\n",
       "    </tr>\n",
       "    <tr>\n",
       "      <th>2010-01-11</th>\n",
       "      <td>24.04</td>\n",
       "      <td>24.08</td>\n",
       "      <td>23.58</td>\n",
       "      <td>23.69</td>\n",
       "      <td>68754700</td>\n",
       "      <td>0.0</td>\n",
       "      <td>0</td>\n",
       "    </tr>\n",
       "    <tr>\n",
       "      <th>2010-01-12</th>\n",
       "      <td>23.60</td>\n",
       "      <td>23.80</td>\n",
       "      <td>23.41</td>\n",
       "      <td>23.54</td>\n",
       "      <td>65912100</td>\n",
       "      <td>0.0</td>\n",
       "      <td>0</td>\n",
       "    </tr>\n",
       "    <tr>\n",
       "      <th>2010-01-13</th>\n",
       "      <td>23.69</td>\n",
       "      <td>23.89</td>\n",
       "      <td>23.49</td>\n",
       "      <td>23.76</td>\n",
       "      <td>51863500</td>\n",
       "      <td>0.0</td>\n",
       "      <td>0</td>\n",
       "    </tr>\n",
       "    <tr>\n",
       "      <th>2010-01-14</th>\n",
       "      <td>23.73</td>\n",
       "      <td>24.34</td>\n",
       "      <td>23.69</td>\n",
       "      <td>24.23</td>\n",
       "      <td>63228100</td>\n",
       "      <td>0.0</td>\n",
       "      <td>0</td>\n",
       "    </tr>\n",
       "  </tbody>\n",
       "</table>\n",
       "</div>"
      ],
      "text/plain": [
       "             Open   High    Low  Close    Volume  Dividends  Stock Splits\n",
       "Date                                                                     \n",
       "2010-01-04  23.97  24.34  23.95  24.23  38409100        0.0             0\n",
       "2010-01-05  24.15  24.34  23.98  24.23  49749600        0.0             0\n",
       "2010-01-06  24.17  24.33  23.89  24.09  58182400        0.0             0\n",
       "2010-01-07  23.98  24.03  23.63  23.84  50559700        0.0             0\n",
       "2010-01-08  23.70  24.17  23.67  24.00  51197400        0.0             0\n",
       "2010-01-11  24.04  24.08  23.58  23.69  68754700        0.0             0\n",
       "2010-01-12  23.60  23.80  23.41  23.54  65912100        0.0             0\n",
       "2010-01-13  23.69  23.89  23.49  23.76  51863500        0.0             0\n",
       "2010-01-14  23.73  24.34  23.69  24.23  63228100        0.0             0"
      ]
     },
     "execution_count": 19,
     "metadata": {},
     "output_type": "execute_result"
    }
   ],
   "source": [
    "import yfinance as yf\n",
    "\n",
    "#define the ticker symbol\n",
    "tickerSymbol = 'MSFT'\n",
    "\n",
    "#get data on this ticker\n",
    "tickerData = yf.Ticker(tickerSymbol)\n",
    "\n",
    "#get the historical prices for this ticker\n",
    "tickerDf = tickerData.history(period='1d', start='2010-1-1', end='2019-12-30')\n",
    "\n",
    "#see your data\n",
    "tickerDf.head(9)\n"
   ]
  },
  {
   "cell_type": "code",
   "execution_count": 20,
   "metadata": {},
   "outputs": [],
   "source": [
    "\n",
    "panel_data =tickerDf.iloc[:,3]"
   ]
  },
  {
   "cell_type": "code",
   "execution_count": 21,
   "metadata": {},
   "outputs": [
    {
     "data": {
      "text/plain": [
       "Date\n",
       "2010-01-04    24.23\n",
       "2010-01-05    24.23\n",
       "2010-01-06    24.09\n",
       "2010-01-07    23.84\n",
       "2010-01-08    24.00\n",
       "Name: Close, dtype: float64"
      ]
     },
     "execution_count": 21,
     "metadata": {},
     "output_type": "execute_result"
    }
   ],
   "source": [
    "panel_data.head()"
   ]
  },
  {
   "cell_type": "markdown",
   "metadata": {},
   "source": [
    "### Calculate a rolling Average"
   ]
  },
  {
   "cell_type": "code",
   "execution_count": 29,
   "metadata": {},
   "outputs": [],
   "source": [
    "# the rolling Average for 30 Calendar days\n",
    "ca30=panel_data.rolling(window=\"30D\").mean()\n",
    "# the rolling Avergae for 30 Business days\n",
    "b30=panel_data.rolling(window=30).mean()\n",
    "b90=panel_data.rolling(window=\"90D\").mean()\n",
    "tickerDf[\"mean_90\"]=b90"
   ]
  },
  {
   "cell_type": "code",
   "execution_count": 30,
   "metadata": {},
   "outputs": [
    {
     "data": {
      "text/html": [
       "<div>\n",
       "<style scoped>\n",
       "    .dataframe tbody tr th:only-of-type {\n",
       "        vertical-align: middle;\n",
       "    }\n",
       "\n",
       "    .dataframe tbody tr th {\n",
       "        vertical-align: top;\n",
       "    }\n",
       "\n",
       "    .dataframe thead th {\n",
       "        text-align: right;\n",
       "    }\n",
       "</style>\n",
       "<table border=\"1\" class=\"dataframe\">\n",
       "  <thead>\n",
       "    <tr style=\"text-align: right;\">\n",
       "      <th></th>\n",
       "      <th>Open</th>\n",
       "      <th>High</th>\n",
       "      <th>Low</th>\n",
       "      <th>Close</th>\n",
       "      <th>Volume</th>\n",
       "      <th>Dividends</th>\n",
       "      <th>Stock Splits</th>\n",
       "      <th>mean_90</th>\n",
       "    </tr>\n",
       "    <tr>\n",
       "      <th>Date</th>\n",
       "      <th></th>\n",
       "      <th></th>\n",
       "      <th></th>\n",
       "      <th></th>\n",
       "      <th></th>\n",
       "      <th></th>\n",
       "      <th></th>\n",
       "      <th></th>\n",
       "    </tr>\n",
       "  </thead>\n",
       "  <tbody>\n",
       "    <tr>\n",
       "      <th>2010-01-04</th>\n",
       "      <td>23.97</td>\n",
       "      <td>24.34</td>\n",
       "      <td>23.95</td>\n",
       "      <td>24.23</td>\n",
       "      <td>38409100</td>\n",
       "      <td>0.0</td>\n",
       "      <td>0</td>\n",
       "      <td>24.230000</td>\n",
       "    </tr>\n",
       "    <tr>\n",
       "      <th>2010-01-05</th>\n",
       "      <td>24.15</td>\n",
       "      <td>24.34</td>\n",
       "      <td>23.98</td>\n",
       "      <td>24.23</td>\n",
       "      <td>49749600</td>\n",
       "      <td>0.0</td>\n",
       "      <td>0</td>\n",
       "      <td>24.230000</td>\n",
       "    </tr>\n",
       "    <tr>\n",
       "      <th>2010-01-06</th>\n",
       "      <td>24.17</td>\n",
       "      <td>24.33</td>\n",
       "      <td>23.89</td>\n",
       "      <td>24.09</td>\n",
       "      <td>58182400</td>\n",
       "      <td>0.0</td>\n",
       "      <td>0</td>\n",
       "      <td>24.183333</td>\n",
       "    </tr>\n",
       "    <tr>\n",
       "      <th>2010-01-07</th>\n",
       "      <td>23.98</td>\n",
       "      <td>24.03</td>\n",
       "      <td>23.63</td>\n",
       "      <td>23.84</td>\n",
       "      <td>50559700</td>\n",
       "      <td>0.0</td>\n",
       "      <td>0</td>\n",
       "      <td>24.097500</td>\n",
       "    </tr>\n",
       "    <tr>\n",
       "      <th>2010-01-08</th>\n",
       "      <td>23.70</td>\n",
       "      <td>24.17</td>\n",
       "      <td>23.67</td>\n",
       "      <td>24.00</td>\n",
       "      <td>51197400</td>\n",
       "      <td>0.0</td>\n",
       "      <td>0</td>\n",
       "      <td>24.078000</td>\n",
       "    </tr>\n",
       "  </tbody>\n",
       "</table>\n",
       "</div>"
      ],
      "text/plain": [
       "             Open   High    Low  Close    Volume  Dividends  Stock Splits  \\\n",
       "Date                                                                        \n",
       "2010-01-04  23.97  24.34  23.95  24.23  38409100        0.0             0   \n",
       "2010-01-05  24.15  24.34  23.98  24.23  49749600        0.0             0   \n",
       "2010-01-06  24.17  24.33  23.89  24.09  58182400        0.0             0   \n",
       "2010-01-07  23.98  24.03  23.63  23.84  50559700        0.0             0   \n",
       "2010-01-08  23.70  24.17  23.67  24.00  51197400        0.0             0   \n",
       "\n",
       "              mean_90  \n",
       "Date                   \n",
       "2010-01-04  24.230000  \n",
       "2010-01-05  24.230000  \n",
       "2010-01-06  24.183333  \n",
       "2010-01-07  24.097500  \n",
       "2010-01-08  24.078000  "
      ]
     },
     "execution_count": 30,
     "metadata": {},
     "output_type": "execute_result"
    }
   ],
   "source": [
    "tickerDf.head()"
   ]
  },
  {
   "cell_type": "code",
   "execution_count": 28,
   "metadata": {},
   "outputs": [],
   "source": [
    "r360=tickerDf[\"Close\"].rolling(window=\"360D\").mean()"
   ]
  },
  {
   "cell_type": "code",
   "execution_count": 32,
   "metadata": {},
   "outputs": [],
   "source": [
    "tickerDf[\"mean_360\"]=r360"
   ]
  },
  {
   "cell_type": "code",
   "execution_count": 35,
   "metadata": {},
   "outputs": [
    {
     "data": {
      "text/plain": [
       "<matplotlib.axes._subplots.AxesSubplot at 0x269961fe080>"
      ]
     },
     "execution_count": 35,
     "metadata": {},
     "output_type": "execute_result"
    },
    {
     "data": {
      "image/png": "[encoded data removed]",
      "text/plain": [
       "<Figure size 432x288 with 1 Axes>"
      ]
     },
     "metadata": {},
     "output_type": "display_data"
    }
   ],
   "source": [
    "tickerDf.iloc[:,[3,7,8]].plot()"
   ]
  }
 ],
 "metadata": {
  "kernelspec": {
   "display_name": "Python 3",
   "language": "python",
   "name": "python3"
  },
  "language_info": {
   "codemirror_mode": {
    "name": "ipython",
    "version": 3
   },
   "file_extension": ".py",
   "mimetype": "text/x-python",
   "name": "python",
   "nbconvert_exporter": "python",
   "pygments_lexer": "ipython3",
   "version": "3.6.5"
  }
 },
 "nbformat": 4,
 "nbformat_minor": 2
}
